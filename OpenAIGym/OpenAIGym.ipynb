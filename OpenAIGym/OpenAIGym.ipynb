{
 "cells": [
  {
   "cell_type": "code",
   "execution_count": 9,
   "metadata": {},
   "outputs": [
    {
     "name": "stdout",
     "output_type": "stream",
     "text": [
      "Requirement already satisfied: gym in /Users/gauravkumar/opt/anaconda3/lib/python3.8/site-packages (0.19.0)\n",
      "Requirement already satisfied: numpy>=1.18.0 in /Users/gauravkumar/opt/anaconda3/lib/python3.8/site-packages (from gym) (1.18.5)\n",
      "Requirement already satisfied: cloudpickle<1.7.0,>=1.2.0 in /Users/gauravkumar/opt/anaconda3/lib/python3.8/site-packages (from gym) (1.5.0)\n",
      "Note: you may need to restart the kernel to use updated packages.\n"
     ]
    }
   ],
   "source": [
    "pip install gym"
   ]
  },
  {
   "cell_type": "code",
   "execution_count": 10,
   "metadata": {},
   "outputs": [
    {
     "name": "stdout",
     "output_type": "stream",
     "text": [
      "zsh:1: no matches found: gym[atari]\n",
      "Note: you may need to restart the kernel to use updated packages.\n"
     ]
    }
   ],
   "source": [
    "pip install gym[atari]"
   ]
  },
  {
   "cell_type": "code",
   "execution_count": 11,
   "metadata": {},
   "outputs": [
    {
     "name": "stdout",
     "output_type": "stream",
     "text": [
      "zsh:1: no matches found: gym[all]\n",
      "Note: you may need to restart the kernel to use updated packages.\n"
     ]
    }
   ],
   "source": [
    "pip install gym[all]"
   ]
  },
  {
   "cell_type": "code",
   "execution_count": 10,
   "metadata": {},
   "outputs": [
    {
     "name": "stdout",
     "output_type": "stream",
     "text": [
      "Collecting pyglet\n",
      "  Downloading pyglet-1.5.26-py3-none-any.whl (1.1 MB)\n",
      "\u001b[K     |████████████████████████████████| 1.1 MB 1.9 MB/s eta 0:00:01\n",
      "\u001b[?25hInstalling collected packages: pyglet\n",
      "Successfully installed pyglet-1.5.26\n",
      "Note: you may need to restart the kernel to use updated packages.\n"
     ]
    }
   ],
   "source": [
    "pip install pyglet"
   ]
  },
  {
   "cell_type": "code",
   "execution_count": 2,
   "metadata": {},
   "outputs": [],
   "source": [
    "import gym # OpenAI gym\n",
    "import time"
   ]
  },
  {
   "cell_type": "code",
   "execution_count": 3,
   "metadata": {},
   "outputs": [],
   "source": [
    "env_name = \"MountainCar-v0\"\n",
    "env = gym.make(env_name)"
   ]
  },
  {
   "cell_type": "code",
   "execution_count": 4,
   "metadata": {},
   "outputs": [],
   "source": [
    "def simple_agent(observation):\n",
    "    # OBSERVATION\n",
    "    position, velocity = observation\n",
    "    \n",
    "    # When to go right --->\n",
    "    if -0.1 < position < 0.4:\n",
    "        action = 2\n",
    "        \n",
    "    # When to go left <---\n",
    "    elif velocity < 0 and position < -0.2:\n",
    "        action = 0\n",
    "        \n",
    "    # When not to do anything\n",
    "    else:\n",
    "        action = 1\n",
    "        \n",
    "    # ACTION\n",
    "    return action"
   ]
  },
  {
   "cell_type": "code",
   "execution_count": 5,
   "metadata": {},
   "outputs": [],
   "source": [
    "env.seed(42) # set the starting position to be same\n",
    "observation = env.reset() # reset all internal values\n",
    "\n",
    "for step in range(600):\n",
    "    # 0 <---\n",
    "    # 1 stays put\n",
    "    # 2 --->\n",
    "    env.render(mode=\"human\")\n",
    "    action = simple_agent(observation) # our cart goes right\n",
    "    \n",
    "    observation, reward, done, info = env.step(action)\n",
    "    \n",
    "    time.sleep(0.05)\n",
    "env.close()"
   ]
  }
 ],
 "metadata": {
  "kernelspec": {
   "display_name": "Python 3",
   "language": "python",
   "name": "python3"
  },
  "language_info": {
   "codemirror_mode": {
    "name": "ipython",
    "version": 3
   },
   "file_extension": ".py",
   "mimetype": "text/x-python",
   "name": "python",
   "nbconvert_exporter": "python",
   "pygments_lexer": "ipython3",
   "version": "3.8.3"
  }
 },
 "nbformat": 4,
 "nbformat_minor": 4
}
